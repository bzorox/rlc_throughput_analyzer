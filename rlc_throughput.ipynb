{
 "cells": [
  {
   "cell_type": "code",
   "execution_count": 1,
   "id": "d6cbc54d-2a19-40c9-b426-496b9ed37f54",
   "metadata": {},
   "outputs": [
    {
     "name": "stdout",
     "output_type": "stream",
     "text": [
      "=== RLC Log Throughput Analyzer ===\n"
     ]
    },
    {
     "name": "stdin",
     "output_type": "stream",
     "text": [
      "Введите путь к файлу с RLC логами:  C:\\Users\\Максим\\Documents\\GitHub\\rlc_throughput_analyzer\\logs.txt\n"
     ]
    },
    {
     "name": "stdout",
     "output_type": "stream",
     "text": [
      "\n",
      "Обработка логов...\n",
      "\n",
      "Результаты:\n",
      "UE ID      UL Throughput kb/s DL Throughput kb/s\n",
      "----------------------------------------\n",
      "1          10.00           20.00          \n",
      "\n",
      "Готово!\n"
     ]
    }
   ],
   "source": [
    "import pandas as pd\n",
    "import re\n",
    "from pathlib import Path\n",
    "from collections import defaultdict\n",
    "\n",
    "def parse_rlc_logs(file_path):\n",
    "    \"\"\"Парсит RLC логи из файла и возвращает структурированные данные.\"\"\"\n",
    "    log_pattern = re.compile(\n",
    "        r'\\[RLC\\]\\[(UL|DL)\\]\\[UE_ID=(\\d+)\\]\\[RB_ID=\\d+\\]\\[SN=\\d+\\]\\s*(?:TX|RX)\\s*(?:AMD|UMD)\\s*PDU.*Size=(\\d+)\\s*bytes.*@\\s*T=([\\d.]+)s'\n",
    "    )\n",
    "    logs = []\n",
    "    \n",
    "    with open(file_path, 'r') as file:\n",
    "        for line in file:\n",
    "            match = log_pattern.search(line)\n",
    "            if match:\n",
    "                direction, ue_id, size, time = match.groups()\n",
    "                logs.append({\n",
    "                    'direction': direction,\n",
    "                    'ue_id': int(ue_id),\n",
    "                    'size': int(size),\n",
    "                    'time': float(time)\n",
    "                })\n",
    "    \n",
    "    return pd.DataFrame(logs)\n",
    "\n",
    "def calculate_throughput(logs_df):\n",
    "    \"\"\"Вычисляет UL и DL throughput для каждого UE.\"\"\"\n",
    "    throughput_results = defaultdict(dict)\n",
    "    \n",
    "    for ue_id in logs_df['ue_id'].unique():\n",
    "        ue_logs = logs_df[logs_df['ue_id'] == ue_id]\n",
    "        \n",
    "        # Calculate UL throughput\n",
    "        ul_logs = ue_logs[ue_logs['direction'] == 'UL']\n",
    "        if not ul_logs.empty:\n",
    "            ul_total_bits = ul_logs['size'].sum() * 8\n",
    "            ul_time = ul_logs['time'].max() - ul_logs['time'].min()\n",
    "            ul_throughput = ul_total_bits / ul_time if ul_time > 0 else 0\n",
    "            throughput_results[ue_id]['UL'] = ul_throughput / 1000  # в кбит/с\n",
    "        \n",
    "        # Calculate DL throughput\n",
    "        dl_logs = ue_logs[ue_logs['direction'] == 'DL']\n",
    "        if not dl_logs.empty:\n",
    "            dl_total_bits = dl_logs['size'].sum() * 8\n",
    "            dl_time = dl_logs['time'].max() - dl_logs['time'].min()\n",
    "            dl_throughput = dl_total_bits / dl_time if dl_time > 0 else 0\n",
    "            throughput_results[ue_id]['DL'] = dl_throughput / 1000  # в кбит/с\n",
    "    \n",
    "    return throughput_results\n",
    "\n",
    "def main():\n",
    "    print(\"=== RLC Log Throughput Analyzer ===\")\n",
    "    \n",
    "    # Запрос пути к файлу\n",
    "    while True:\n",
    "        file_path = input(\"Введите путь к файлу с RLC логами: \").strip()\n",
    "        if Path(file_path).is_file():\n",
    "            break\n",
    "        print(\"Файл не найден. Попробуйте снова.\")\n",
    "    \n",
    "    # Парсинг и расчет\n",
    "    try:\n",
    "        print(\"\\nОбработка логов...\")\n",
    "        logs_df = parse_rlc_logs(file_path)\n",
    "        \n",
    "        if logs_df.empty:\n",
    "            print(\"Не найдено подходящих RLC логов в файле.\")\n",
    "            return\n",
    "        \n",
    "        throughput_results = calculate_throughput(logs_df)\n",
    "        \n",
    "        # Вывод результатов\n",
    "        print(\"\\nРезультаты:\")\n",
    "        print(\"{:<10} {:<15} {:<15}\".format(\"UE ID\", \"UL Throughput kb/s\", \"DL Throughput kb/s\"))\n",
    "        print(\"-\" * 40)\n",
    "        for ue_id, metrics in throughput_results.items():\n",
    "            ul = metrics.get('UL', 0)\n",
    "            dl = metrics.get('DL', 0)\n",
    "            print(\"{:<10} {:<15.2f} {:<15.2f}\".format(ue_id, ul, dl))\n",
    "        \n",
    "        print(\"\\nГотово!\")\n",
    "    \n",
    "    except Exception as e:\n",
    "        print(f\"\\nОшибка при обработке файла: {e}\")\n",
    "\n",
    "if __name__ == \"__main__\":\n",
    "    main()"
   ]
  }
 ],
 "metadata": {
  "kernelspec": {
   "display_name": "Python 3 (ipykernel)",
   "language": "python",
   "name": "python3"
  },
  "language_info": {
   "codemirror_mode": {
    "name": "ipython",
    "version": 3
   },
   "file_extension": ".py",
   "mimetype": "text/x-python",
   "name": "python",
   "nbconvert_exporter": "python",
   "pygments_lexer": "ipython3",
   "version": "3.12.3"
  }
 },
 "nbformat": 4,
 "nbformat_minor": 5
}
